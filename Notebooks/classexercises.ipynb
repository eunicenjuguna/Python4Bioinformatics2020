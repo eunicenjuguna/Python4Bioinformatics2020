{
 "cells": [
  {
   "cell_type": "markdown",
   "metadata": {},
   "source": [
    "# **Calculate the % GC and % AT content in the trna sequence**"
   ]
  },
  {
   "cell_type": "code",
   "execution_count": 2,
   "metadata": {},
   "outputs": [
    {
     "name": "stdout",
     "output_type": "stream",
     "text": [
      "AAGGGCTTAGCTTAATTAAAGTGGCTGATTTGCGTTCAGTTGATGCAGAGTGGGGTTTTGCAGTCCTTA\n"
     ]
    }
   ],
   "source": [
    "trna='AAGGGCTTAGCTTAATTAAAGTGGCTGATTTGCGTTCAGTTGATGCAGAGTGGGGTTTTGCAGTCCTTA'\n",
    "print(trna)"
   ]
  },
  {
   "cell_type": "code",
   "execution_count": 2,
   "metadata": {},
   "outputs": [
    {
     "name": "stdout",
     "output_type": "stream",
     "text": [
      "The AT percent in tRNA is 55.88 %\n",
      "The GC percent in tRNA is 44.12 %\n"
     ]
    }
   ],
   "source": [
    "def GCAT_content():    \n",
    "    tRNA = 'AAGGGCTTAGCTTAATTAAAGTGGCTGATTTGCGTTCAGTTGATGCAGAGTGGGGTTTTGCAGTCCTT'\n",
    "    A = tRNA.count('A')\n",
    "    T = tRNA.count('T')\n",
    "    C = tRNA.count('C')\n",
    "    G = tRNA.count('G')\n",
    "    tRNAleng = len(tRNA)\n",
    "    AT = (A+T)\n",
    "    GC = (G+C)\n",
    "    ATperc = ((AT/tRNAleng)*100)\n",
    "    GCperc = ((GC/tRNAleng)*100)\n",
    "    print('The AT percent in tRNA is %.2f' %(ATperc),'%')\n",
    "    print('The GC percent in tRNA is %.2f' %(GCperc),'%')\n",
    "GCAT_content()    "
   ]
  },
  {
   "cell_type": "markdown",
   "metadata": {},
   "source": [
    "\n",
    "# Given the following amino acid sequence (MNKMDLVADVAEKTDLSKAKATEVIDAVFA), find the first, last and the 5th amino acids in the sequence."
   ]
  },
  {
   "cell_type": "code",
   "execution_count": 11,
   "metadata": {},
   "outputs": [
    {
     "data": {
      "text/plain": [
       "30"
      ]
     },
     "execution_count": 11,
     "metadata": {},
     "output_type": "execute_result"
    }
   ],
   "source": [
    "aminoacid='MNKMDLVADVAEKTDLSKAKATEVIDAVFA'\n",
    "len(aminoacid)"
   ]
  },
  {
   "cell_type": "code",
   "execution_count": 28,
   "metadata": {},
   "outputs": [
    {
     "data": {
      "text/plain": [
       "('M', 'A', 'D')"
      ]
     },
     "execution_count": 28,
     "metadata": {},
     "output_type": "execute_result"
    }
   ],
   "source": [
    "aminoacid[0],aminoacid[-1],aminoacid[4]"
   ]
  },
  {
   "cell_type": "code",
   "execution_count": 16,
   "metadata": {},
   "outputs": [
    {
     "name": "stdout",
     "output_type": "stream",
     "text": [
      "the first Amino Acid in Amino acid sequence is M\n",
      "the last Amino Acid in Amino acid sequence is A\n",
      "the fifth Amino Acid in Amino acid sequence is D\n"
     ]
    }
   ],
   "source": [
    "def aa_pos():  \n",
    "    AAseq = 'MNKMDLVADVAEKTDLSKAKATEVIDAVFA'\n",
    "    firstAA = AAseq[0]\n",
    "    lastAA = AAseq[-1]\n",
    "    fifthAA = AAseq[4]\n",
    "    print('the first Amino Acid in Amino acid sequence is', firstAA)\n",
    "    print('the last Amino Acid in Amino acid sequence is', lastAA)\n",
    "    print('the fifth Amino Acid in Amino acid sequence is', fifthAA)\n",
    "aa_pos()"
   ]
  },
  {
   "cell_type": "markdown",
   "metadata": {},
   "source": [
    "# The above amino acid is a bacterial restriction enzyme that recognizes \"TCCGGA\". Find the first restriction site in the following sequence: AAAAATCCCGAGGCGGCTATATAGGGCTCCGGAGGCGTAATATAAAA \n"
   ]
  },
  {
   "cell_type": "code",
   "execution_count": 4,
   "metadata": {},
   "outputs": [
    {
     "name": "stdout",
     "output_type": "stream",
     "text": [
      "The first restriction site is at index 27\n"
     ]
    }
   ],
   "source": [
    "def recog_site():   \n",
    "    seq = 'AAAAATCCCGAGGCGGCTATATAGGGCTCCGGAGGCGTAATATAAAA'\n",
    "    recSeq = 'TCCGGA'\n",
    "    firstSit = seq.find(recSeq)\n",
    "    print('The first restriction site is at index', firstSit)\n",
    "recog_site()    "
   ]
  },
  {
   "cell_type": "markdown",
   "metadata": {},
   "source": [
    "\n",
    "# Using strings, lists, tuples and dictionaries concepts, find the reverse complement of AAAAATCCCGAGGCGGCTATATAGGGCTCCGGAGGCGTAATATAAAA"
   ]
  },
  {
   "cell_type": "code",
   "execution_count": 8,
   "metadata": {},
   "outputs": [
    {
     "name": "stdout",
     "output_type": "stream",
     "text": [
      "The reverse complemment of my sequence is: TTTTATATTACGCCTCCGGAGCCCTATATAGCCGCCTCGGGATTTTT\n"
     ]
    }
   ],
   "source": [
    "def rev_comp(seq):\n",
    "    #seq = 'AAAAATCCCGAGGCGGCTATATAGGGCTCCGGAGGCGTAATATAAAA'\n",
    "    comp = seq.replace('A','t').replace('T','a').replace('C','g').replace('G','c')\n",
    "    revComp = comp.upper()[::-1]\n",
    "    print('The reverse complemment of my sequence is:', revComp)\n",
    "rev_comp(\"AAAAATCCCGAGGCGGCTATATAGGGCTCCGGAGGCGTAATATAAAA\")    "
   ]
  },
  {
   "cell_type": "markdown",
   "metadata": {},
   "source": [
    "# QN.5: Write a program to manage bank withdrawals at the ATM. Expand the script in the previous cell to also manage ATM deposits"
   ]
  },
  {
   "cell_type": "code",
   "execution_count": 10,
   "metadata": {},
   "outputs": [
    {
     "name": "stdin",
     "output_type": "stream",
     "text": [
      "please inter 'b' for balance, 'w' to withdraw, 'd' to deposite and 'q' to quit b\n"
     ]
    },
    {
     "name": "stdout",
     "output_type": "stream",
     "text": [
      "Your balance is: 100\n",
      "anything else?\n"
     ]
    },
    {
     "name": "stdin",
     "output_type": "stream",
     "text": [
      "please enter 'b' for balance, 'w' to withdraw, 'd' to deposite and 'q' to quit w\n",
      "enter amount you want to withdraw: 20\n"
     ]
    },
    {
     "name": "stdout",
     "output_type": "stream",
     "text": [
      "here is your: 20.0\n",
      "anything else?\n"
     ]
    },
    {
     "name": "stdin",
     "output_type": "stream",
     "text": [
      "please enter 'b' for balance, 'w' to withdraw, 'd' to deposite and 'q' to quit d\n",
      "enter amount you want to deposite:  20\n"
     ]
    },
    {
     "name": "stdout",
     "output_type": "stream",
     "text": [
      "you deposited 20.0\n",
      "anything else?\n"
     ]
    },
    {
     "name": "stdin",
     "output_type": "stream",
     "text": [
      "please enter 'b' for balance, 'w' to withdraw, 'd' to deposite and 'q' to quit b\n"
     ]
    },
    {
     "name": "stdout",
     "output_type": "stream",
     "text": [
      "Your balance is: 100.0\n",
      "anything else?\n"
     ]
    },
    {
     "name": "stdin",
     "output_type": "stream",
     "text": [
      "please enter 'b' for balance, 'w' to withdraw, 'd' to deposite and 'q' to quit q\n"
     ]
    }
   ],
   "source": [
    " def atm_withdraw():   \n",
    "    balance = 100\n",
    "    options = input(\"please inter 'b' for balance, 'w' to withdraw, 'd' to deposite and 'q' to quit\")\n",
    "    while options != 'q':\n",
    "        if options.lower() in ('b','w','d'):\n",
    "            if options.lower() == 'b':\n",
    "                print('Your balance is:', balance)\n",
    "                print('anything else?')\n",
    "                options = input(\"please enter 'b' for balance, 'w' to withdraw, 'd' to deposite and 'q' to quit\")\n",
    "            elif options.lower()=='w':\n",
    "                withdraw = float(input('enter amount you want to withdraw:'))\n",
    "                if withdraw <= balance:\n",
    "                    print('here is your:', withdraw)\n",
    "                    balance = balance - withdraw\n",
    "                    print('anything else?')\n",
    "                    options = input(\"please enter 'b' for balance, 'w' to withdraw, 'd' to deposite and 'q' to quit\")\n",
    "                else:\n",
    "                    print('you dont have enough balance.')\n",
    "\n",
    "            else:\n",
    "                options.lower()== 'd'\n",
    "                deposite = float(input('enter amount you want to deposite: '))\n",
    "                print('you deposited', deposite,)\n",
    "                balance = balance + deposite\n",
    "                print('anything else?')\n",
    "                options = input(\"please enter 'b' for balance, 'w' to withdraw, 'd' to deposite and 'q' to quit\")\n",
    "        else:\n",
    "            print('bad choice')\n",
    "            options = input(\"please enter 'b' for balance, 'w' to withdraw, 'd' to deposite and 'q' to quit\")\n",
    "\n",
    "atm_withdraw()"
   ]
  },
  {
   "cell_type": "markdown",
   "metadata": {},
   "source": [
    "\n",
    "# Create a while loop that starts with x = 0 and increments x until x is equal to 5. Each iteration should print to the console."
   ]
  },
  {
   "cell_type": "code",
   "execution_count": 4,
   "metadata": {},
   "outputs": [
    {
     "name": "stdout",
     "output_type": "stream",
     "text": [
      "0\n",
      "1\n",
      "2\n",
      "3\n",
      "4\n",
      "5\n"
     ]
    }
   ],
   "source": [
    "def num_icrease(num):\n",
    "    x=0\n",
    "    while x <= 5:\n",
    "        print(x)\n",
    "        x += 1\n",
    "num_icrease(5)"
   ]
  },
  {
   "cell_type": "markdown",
   "metadata": {},
   "source": [
    "# Repeat the previous problem, but the loop will skip printing x = 5 to the console but will print values of x from 6 to 10."
   ]
  },
  {
   "cell_type": "code",
   "execution_count": 6,
   "metadata": {},
   "outputs": [
    {
     "name": "stdout",
     "output_type": "stream",
     "text": [
      "0\n",
      "1\n",
      "2\n",
      "3\n",
      "4\n",
      "6\n",
      "7\n",
      "8\n",
      "9\n"
     ]
    }
   ],
   "source": [
    "def num_skip(num):    \n",
    "    for x in range(10):\n",
    "        if x==5:\n",
    "            continue\n",
    "        print(x)\n",
    "num_skip(10)"
   ]
  },
  {
   "cell_type": "markdown",
   "metadata": {},
   "source": [
    "# Create a for loop that prints values from 4 to 10 to the console.\n"
   ]
  },
  {
   "cell_type": "code",
   "execution_count": 7,
   "metadata": {},
   "outputs": [
    {
     "name": "stdout",
     "output_type": "stream",
     "text": [
      "4\n",
      "5\n",
      "6\n",
      "7\n",
      "8\n",
      "9\n",
      "10\n"
     ]
    }
   ],
   "source": [
    "def num_loop(num):    \n",
    "    for x in range(4,11):\n",
    "        if x>=4:\n",
    "            print(x)\n",
    "num_loop(10)"
   ]
  },
  {
   "cell_type": "markdown",
   "metadata": {},
   "source": [
    "\n",
    "# Write a function percentageGC that calculates the GC content of a DNA sequence \n",
    "    The function should return the %GC content\n",
    "    The Function should return a message if the provided sequence is not DNA (This should be checked by a different function, called by your function)\n",
    "\n"
   ]
  },
  {
   "cell_type": "code",
   "execution_count": 2,
   "metadata": {},
   "outputs": [
    {
     "name": "stdout",
     "output_type": "stream",
     "text": [
      "The GC percentage is 44.12 %\n"
     ]
    }
   ],
   "source": [
    "tRNA = 'AAGGGCTTAGCTTAATTAAAGTGGCTGATTTGCGTTCAGTTGATGCAGAGTGGGGTTTTGCAGTCCTT'\n",
    "def GCcontent(tRNA):\n",
    "    A = tRNA.count('A')\n",
    "    T = tRNA.count('T')\n",
    "    C = tRNA.count('C')\n",
    "    G = tRNA.count('G')\n",
    "    tRNAleng = len(tRNA)\n",
    "    GC = (G+C)\n",
    "    GCperc = ((GC/tRNAleng)*100)\n",
    "    print('The GC percentage is %.2f' %(GCperc),'%')\n",
    "GCcontent(tRNA)"
   ]
  },
  {
   "cell_type": "markdown",
   "metadata": {},
   "source": [
    "#  Write a function the reads the file (humchr.txt) and writes to another file (gene_names.txt) a clean list of gene names."
   ]
  },
  {
   "cell_type": "code",
   "execution_count": null,
   "metadata": {},
   "outputs": [],
   "source": []
  },
  {
   "cell_type": "markdown",
   "metadata": {},
   "source": [
    "\n",
    "# Convert the function you wrote in exercise 1 into a python module. Then, import the module and use the function to read humchrx.txt file and create a gene list file."
   ]
  },
  {
   "cell_type": "code",
   "execution_count": null,
   "metadata": {},
   "outputs": [],
   "source": []
  },
  {
   "cell_type": "markdown",
   "metadata": {},
   "source": [
    "# Create a stand-alone script that does all the above."
   ]
  },
  {
   "cell_type": "code",
   "execution_count": null,
   "metadata": {},
   "outputs": [],
   "source": []
  },
  {
   "cell_type": "markdown",
   "metadata": {},
   "source": [
    "# Using the same concept, convert your script in exercise 1 to take command line arguments (input and output files) "
   ]
  },
  {
   "cell_type": "code",
   "execution_count": null,
   "metadata": {},
   "outputs": [],
   "source": []
  },
  {
   "cell_type": "markdown",
   "metadata": {},
   "source": [
    "# Using a DNA sequence read from file, answer the following questions:\n",
    "# 1.Show that the DNA string contains only four letters."
   ]
  },
  {
   "cell_type": "code",
   "execution_count": null,
   "metadata": {},
   "outputs": [],
   "source": []
  },
  {
   "cell_type": "markdown",
   "metadata": {},
   "source": [
    "# 2.In the DNA string there are regions that have a repeating letter. What is the letter and length of the longest repeating region?"
   ]
  },
  {
   "cell_type": "code",
   "execution_count": null,
   "metadata": {},
   "outputs": [],
   "source": []
  },
  {
   "cell_type": "markdown",
   "metadata": {},
   "source": [
    "# How many ’ATG’s are in the DNA string? "
   ]
  },
  {
   "cell_type": "code",
   "execution_count": null,
   "metadata": {},
   "outputs": [],
   "source": []
  }
 ],
 "metadata": {
  "kernelspec": {
   "display_name": "Python 3",
   "language": "python",
   "name": "python3"
  },
  "language_info": {
   "codemirror_mode": {
    "name": "ipython",
    "version": 3
   },
   "file_extension": ".py",
   "mimetype": "text/x-python",
   "name": "python",
   "nbconvert_exporter": "python",
   "pygments_lexer": "ipython3",
   "version": "3.8.3"
  }
 },
 "nbformat": 4,
 "nbformat_minor": 4
}
